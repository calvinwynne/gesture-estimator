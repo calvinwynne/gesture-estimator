{
 "cells": [
  {
   "cell_type": "code",
   "execution_count": 17,
   "id": "37d7c073-e594-4047-9b86-d9047d592bb8",
   "metadata": {},
   "outputs": [
    {
     "data": {
      "text/plain": [
       "['waving_1043.npy',\n",
       " 'waving_1042.npy',\n",
       " 'waving_1040.npy',\n",
       " 'waving_1041.npy',\n",
       " 'waving_1045.npy',\n",
       " 'waving_1044.npy',\n",
       " 'waving_1020.npy',\n",
       " 'waving_1034.npy',\n",
       " 'waving_1008.npy',\n",
       " 'waving_1009.npy',\n",
       " 'waving_1035.npy',\n",
       " 'waving_1021.npy',\n",
       " 'waving_1037.npy',\n",
       " 'waving_1023.npy',\n",
       " 'waving_1022.npy',\n",
       " 'waving_1036.npy',\n",
       " 'waving_1032.npy',\n",
       " 'waving_1026.npy',\n",
       " 'waving_1027.npy',\n",
       " 'waving_1033.npy',\n",
       " 'waving_1019.npy',\n",
       " 'waving_1025.npy',\n",
       " 'waving_1031.npy',\n",
       " 'waving_1030.npy',\n",
       " 'waving_1024.npy',\n",
       " 'waving_1018.npy',\n",
       " 'waving_1001.npy',\n",
       " 'waving_1015.npy',\n",
       " 'waving_1029.npy',\n",
       " 'waving_1028.npy',\n",
       " 'waving_1014.npy',\n",
       " 'waving_1000.npy',\n",
       " 'waving_1016.npy',\n",
       " 'waving_1002.npy',\n",
       " 'waving_1003.npy',\n",
       " 'waving_1017.npy',\n",
       " 'waving_1013.npy',\n",
       " 'waving_1007.npy',\n",
       " 'waving_1006.npy',\n",
       " 'waving_1012.npy',\n",
       " 'waving_1038.npy',\n",
       " 'waving_1004.npy',\n",
       " 'waving_1010.npy',\n",
       " 'waving_1011.npy',\n",
       " 'waving_1005.npy',\n",
       " 'waving_1039.npy']"
      ]
     },
     "execution_count": 17,
     "metadata": {},
     "output_type": "execute_result"
    }
   ],
   "source": [
    "import os\n",
    "import numpy as np\n",
    "\n",
    "\n",
    "def appendNPY():\n",
    "    parentDir = os.path.join(os.getcwd(), \"extractedData\")\n",
    "    for folders in (\"handshake\", \"waving\", \"yawning\", \"walking\", \"bowing\", \"punching\", \"standing\", \"sitting\", \"scratchingHead\", \"defending\", \"reachingUp\"):\n",
    "        path = os.path.join(parentDir, folders)\n",
    "        for files in os.listdir(path):\n",
    "            os.rename(os.path.join(path, files), os.path.join(path, files) + \".npy\")\n",
    "            \n",
    "            \n",
    "path = os.path.join(os.getcwd(), \"extractedData\", \"waving\")\n",
    "os.listdir(path)"
   ]
  },
  {
   "cell_type": "code",
   "execution_count": 20,
   "id": "703f0dfe-c1e7-48da-8488-f3531512433e",
   "metadata": {},
   "outputs": [
    {
     "data": {
      "text/plain": [
       "(212, 34, 22)"
      ]
     },
     "execution_count": 20,
     "metadata": {},
     "output_type": "execute_result"
    }
   ],
   "source": [
    "data = np.load(os.path.join(path, \"waving_1043.npy\"))"
   ]
  },
  {
   "cell_type": "code",
   "execution_count": 21,
   "id": "f41a34e6-bc36-40ee-97ee-ecbfcfc8d7f1",
   "metadata": {},
   "outputs": [
    {
     "data": {
      "text/plain": [
       "(212, 34, 22)"
      ]
     },
     "execution_count": 21,
     "metadata": {},
     "output_type": "execute_result"
    }
   ],
   "source": [
    "data.shape"
   ]
  },
  {
   "cell_type": "code",
   "execution_count": null,
   "id": "6329e3be-735f-4a6c-862d-6c8e85921de2",
   "metadata": {},
   "outputs": [],
   "source": [
    "from tensorflow.keras.models import Sequential\n",
    "from tensorflow.keras.layers import LSTM, Dense\n",
    "from tensorflow.keras.callbacks import TensorBoard\n",
    "\n",
    "log_dir = os.path.join('Logs')\n",
    "tb_callback = TensorBoard(log_dir=log_dir)\n",
    "\n",
    "model = Sequential()\n",
    "model.add(LSTM(64, return_sequences=True, activation='relu', input_shape=(30, 1662)))\n",
    "model.add(LSTM(128, return_sequences=True, activation='relu'))\n",
    "model.add(LSTM(64, return_sequences=False, activation='relu'))\n",
    "model.add(Dense(64, activation='relu'))\n",
    "model.add(Dense(32, activation='relu'))\n",
    "model.add(Dense(actions.shape[0], activation='softmax'))\n",
    "\n",
    "model.compile(optimizer='Adam', loss='categorical_crossentropy', metrics=['categorical_accuracy'])\n",
    "model.fit(X_train, y_train, epochs=2000, callbacks=[tb_callback])\n",
    "\n",
    "model.summary()"
   ]
  }
 ],
 "metadata": {
  "kernelspec": {
   "display_name": "Python 3 (ipykernel)",
   "language": "python",
   "name": "python3"
  },
  "language_info": {
   "codemirror_mode": {
    "name": "ipython",
    "version": 3
   },
   "file_extension": ".py",
   "mimetype": "text/x-python",
   "name": "python",
   "nbconvert_exporter": "python",
   "pygments_lexer": "ipython3",
   "version": "3.8.13"
  }
 },
 "nbformat": 4,
 "nbformat_minor": 5
}
