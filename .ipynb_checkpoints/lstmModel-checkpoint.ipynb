{
 "cells": [
  {
   "cell_type": "code",
   "execution_count": 1,
   "id": "37d7c073-e594-4047-9b86-d9047d592bb8",
   "metadata": {},
   "outputs": [],
   "source": [
    "import os"
   ]
  },
  {
   "cell_type": "code",
   "execution_count": 6,
   "id": "54f7c05a-8e9d-4e8d-975e-3c5a4bbe9fc4",
   "metadata": {},
   "outputs": [],
   "source": [
    "def appendNPY():\n",
    "    parentDir = os.path.join(os.getcwd(), \"extractedData\")\n",
    "    for folders in (\"handshake\", \"waving\", \"yawning\", \"walking\", \"bowing\", \"punching\", \"standing\", \"sitting\", \"scratchingHead\", \"defending\", \"reachingUp\"):\n",
    "        path = os.path.join(parentDir, folders)\n",
    "        for files in os.listdir(path):\n",
    "            os.rename(os.path.join(path, files), os.path.join(path, files) + \".npy\")\n"
   ]
  },
  {
   "cell_type": "code",
   "execution_count": null,
   "id": "8e3c1a56-99fe-4429-b74a-82628e1330a2",
   "metadata": {},
   "outputs": [],
   "source": []
  },
  {
   "cell_type": "code",
   "execution_count": 10,
   "id": "6b98d968-3cc1-477d-8d15-900e466f6951",
   "metadata": {},
   "outputs": [],
   "source": []
  },
  {
   "cell_type": "code",
   "execution_count": null,
   "id": "6329e3be-735f-4a6c-862d-6c8e85921de2",
   "metadata": {},
   "outputs": [],
   "source": []
  }
 ],
 "metadata": {
  "kernelspec": {
   "display_name": "Python 3 (ipykernel)",
   "language": "python",
   "name": "python3"
  },
  "language_info": {
   "codemirror_mode": {
    "name": "ipython",
    "version": 3
   },
   "file_extension": ".py",
   "mimetype": "text/x-python",
   "name": "python",
   "nbconvert_exporter": "python",
   "pygments_lexer": "ipython3",
   "version": "3.8.13"
  }
 },
 "nbformat": 4,
 "nbformat_minor": 5
}
