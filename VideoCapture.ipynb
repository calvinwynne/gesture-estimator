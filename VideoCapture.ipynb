{
 "cells": [
  {
   "cell_type": "code",
   "execution_count": 5,
   "id": "5847df94-4a77-4c45-96ce-57f1a9dcfc39",
   "metadata": {},
   "outputs": [],
   "source": [
    "import cv2\n",
    "import os\n",
    "import time\n",
    "import numpy as np\n",
    "\n",
    "FILE_NAME = \"Sample\"\n",
    "DURATION = 5\n",
    "explicit = [\n",
    "    \"Slapping\",\n",
    "    \"Ducking\",\n",
    "    \"PhoneOut\",\n",
    "    \"ReachingOut\",\n",
    "    \"Punching\",\n",
    "    \"Shaking hands\",\n",
    "    \"Bowing\",\n",
    "    \"handsUp\"]\n",
    "\n",
    "implicit = [\n",
    "    \"Walking\",\n",
    "    \"Yawning\",\n",
    "    \"Defending\",\n",
    "    \"Standing\",\n",
    "    \"Sitting\",\n",
    "    \"ScratchingHead\",\n",
    "    \"Jumping\",\n",
    "    \"Limping\"]"
   ]
  },
  {
   "cell_type": "code",
   "execution_count": null,
   "id": "b7da2db5-5b0f-44b7-9d6c-e411b3ae748a",
   "metadata": {},
   "outputs": [],
   "source": [
    "FPS = 30\n",
    "FOURCC = cv2.VideoWriter_fourcc('m', 'p', '4', 'v')\n",
    "RESOLUTION = (1280, 720)\n",
    "\n",
    "def record(action):\n",
    "    file_name = os.path.join(\"/Users/calvin/Documents/NUIG/Thesis/dataset\", FILE_NAME, action + \".mp4\")\n",
    "    if not os.path.isdir(os.path.join(\"/Users/calvin/Documents/NUIG/Thesis/dataset\", FILE_NAME)):\n",
    "        os.mkdir(os.path.join(\"/Users/calvin/Documents/NUIG/Thesis/dataset\", FILE_NAME))\n",
    "    \n",
    "    start = time.perf_counter()\n",
    "    writer = cv2.VideoWriter(file_name, FOURCC, FPS, RESOLUTION)\n",
    "    cap = cv2.VideoCapture(0)\n",
    "    while cap.isOpened():\n",
    "        success, image = cap.read()\n",
    "        if not success:\n",
    "            print(\"Ignoring emtpty camera frame.\")\n",
    "            continue\n",
    "        writer.write(image)\n",
    "        timer = int(time.perf_counter() - start)\n",
    "        image = cv2.putText(image, str(timer), (image.shape[1]-70, image.shape[0]-10), cv2.FONT_HERSHEY_SIMPLEX, 3, (255, 255, 255), 4, cv2.LINE_AA)\n",
    "        cv2.imshow(\"Capture\", image)\n",
    "        if (cv2.waitKey(1) & 0xFF) == ord(\"q\") or timer >= DURATION:\n",
    "            break\n",
    "    cap.release()\n",
    "    cv2.destroyAllWindows()\n",
    "    \n",
    "    if input(action + \": Retry?\") in [\"y\", \"Y\"]:\n",
    "        os.remove(file_name)\n",
    "        record(action)\n",
    "    \n",
    "\n",
    "for action in explicit + implicit:\n",
    "    record(action)"
   ]
  },
  {
   "cell_type": "code",
   "execution_count": null,
   "id": "8f2f7da9-f4e3-4f47-a8c2-2fa39a8c8f0a",
   "metadata": {},
   "outputs": [],
   "source": []
  }
 ],
 "metadata": {
  "kernelspec": {
   "display_name": "Python 3 (ipykernel)",
   "language": "python",
   "name": "python3"
  },
  "language_info": {
   "codemirror_mode": {
    "name": "ipython",
    "version": 3
   },
   "file_extension": ".py",
   "mimetype": "text/x-python",
   "name": "python",
   "nbconvert_exporter": "python",
   "pygments_lexer": "ipython3",
   "version": "3.8.13"
  }
 },
 "nbformat": 4,
 "nbformat_minor": 5
}
